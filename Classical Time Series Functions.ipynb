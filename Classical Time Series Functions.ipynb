{
 "cells": [
  {
   "cell_type": "code",
   "execution_count": 43,
   "metadata": {
    "collapsed": true
   },
   "outputs": [],
   "source": [
    "from statsmodels.tsa.ar_model import AR\n",
    "from statsmodels.tsa.arima_model import ARMA\n",
    "from statsmodels.tsa.arima_model import ARIMA\n",
    "from statsmodels.tsa.statespace.sarimax import SARIMAX\n",
    "from random import random\n",
    "import numpy as np\n",
    "import matplotlib.pyplot as plt\n",
    "import pandas as pd"
   ]
  },
  {
   "cell_type": "code",
   "execution_count": null,
   "metadata": {
    "collapsed": true
   },
   "outputs": [],
   "source": [
    "#https://machinelearningmastery.com/time-series-forecasting-methods-in-python-cheat-sheet/"
   ]
  },
  {
   "cell_type": "code",
   "execution_count": 44,
   "metadata": {
    "collapsed": true
   },
   "outputs": [],
   "source": [
    "time_series = []\n",
    "for i in range(0,365):\n",
    "    y = np.random.normal(0,1) + i\n",
    "    time_series.append(y)"
   ]
  },
  {
   "cell_type": "code",
   "execution_count": 45,
   "metadata": {
    "collapsed": true
   },
   "outputs": [],
   "source": [
    "def autoRegression(time_series):\n",
    "    model = AR(time_series)\n",
    "    model_fit = model.fit()\n",
    "    yhat = model_fit.predict(len(time_series), len(time_series))\n",
    "    print(yhat)"
   ]
  },
  {
   "cell_type": "code",
   "execution_count": 46,
   "metadata": {
    "collapsed": true
   },
   "outputs": [],
   "source": [
    "def movingAverage(time_series):\n",
    "    model = ARMA(time_series, order=(0, 1))\n",
    "    model_fit = model.fit(disp=False)\n",
    "    yhat = model_fit.predict(len(time_series), len(time_series))\n",
    "    print(yhat)"
   ]
  },
  {
   "cell_type": "code",
   "execution_count": 47,
   "metadata": {
    "collapsed": true
   },
   "outputs": [],
   "source": [
    "def autoRegMA(time_series):\n",
    "    model = ARMA(time_series, order=(2, 1))\n",
    "    model_fit = model.fit(disp=False)\n",
    "    yhat = model_fit.predict(len(time_series), len(time_series))\n",
    "    print(yhat)"
   ]
  },
  {
   "cell_type": "code",
   "execution_count": 48,
   "metadata": {
    "collapsed": true
   },
   "outputs": [],
   "source": [
    "def autoRegIntMA(time_series):\n",
    "    model = ARIMA(time_series, order=(1, 1, 1))\n",
    "    model_fit = model.fit(disp=False)\n",
    "    yhat = model_fit.predict(len(time_series), len(time_series), typ='levels')\n",
    "    print(yhat)"
   ]
  },
  {
   "cell_type": "code",
   "execution_count": 51,
   "metadata": {
    "collapsed": true
   },
   "outputs": [],
   "source": [
    "def seasonalARIMA(time_series):\n",
    "    model = SARIMAX(time_series, order=(1, 1, 1), seasonal_order=(1, 1, 1, 1))\n",
    "    model_fit = model.fit(disp=False)\n",
    "    # make prediction\n",
    "    yhat = model_fit.predict(len(time_series), len(time_series))\n",
    "    print(yhat)"
   ]
  },
  {
   "cell_type": "code",
   "execution_count": 52,
   "metadata": {},
   "outputs": [
    {
     "name": "stdout",
     "output_type": "stream",
     "text": [
      "[ 365.16006006]\n"
     ]
    }
   ],
   "source": [
    "seasonalARIMA(time_series)"
   ]
  },
  {
   "cell_type": "code",
   "execution_count": 68,
   "metadata": {},
   "outputs": [],
   "source": [
    "def prediction(time_series,trending=False,seasonal=False):\n",
    "    auto_reg = autoRegression(time_series)\n",
    "    moving_average = movingAverage(time_series)\n",
    "    if trending == False:\n",
    "        auto_reg_ma = autoRegMA(time_series)\n",
    "    else:\n",
    "        auto_reg_ma = None\n",
    "    auto_reg_int_ma = autoRegIntMA(time_series)\n",
    "    seasonal_ARIMA = seasonalARIMA(time_series)\n",
    "    print('{}{}{}{}{}'.format(auto_reg,moving_average,auto_reg_ma,auto_reg_int_ma,seasonal_ARIMA))"
   ]
  },
  {
   "cell_type": "code",
   "execution_count": 69,
   "metadata": {},
   "outputs": [
    {
     "name": "stdout",
     "output_type": "stream",
     "text": [
      "[ 365.2921152]\n",
      "[ 277.26866007]\n",
      "[ 365.16495329]\n",
      "[ 365.16006006]\n",
      "NoneNoneNoneNoneNone\n"
     ]
    }
   ],
   "source": [
    "prediction(time_series,trending=True)"
   ]
  },
  {
   "cell_type": "code",
   "execution_count": null,
   "metadata": {
    "collapsed": true
   },
   "outputs": [],
   "source": []
  }
 ],
 "metadata": {
  "kernelspec": {
   "display_name": "Python 3",
   "language": "python",
   "name": "python3"
  },
  "language_info": {
   "codemirror_mode": {
    "name": "ipython",
    "version": 3
   },
   "file_extension": ".py",
   "mimetype": "text/x-python",
   "name": "python",
   "nbconvert_exporter": "python",
   "pygments_lexer": "ipython3",
   "version": "3.6.1"
  }
 },
 "nbformat": 4,
 "nbformat_minor": 2
}
