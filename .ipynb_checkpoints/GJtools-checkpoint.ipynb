{
 "cells": [
  {
   "cell_type": "code",
   "execution_count": 1,
   "metadata": {
    "collapsed": true
   },
   "outputs": [],
   "source": [
    "import numpy as np\n",
    "import matplotlib.pyplot as plt\n",
    "import pandas as pd"
   ]
  },
  {
   "cell_type": "code",
   "execution_count": 2,
   "metadata": {
    "collapsed": true
   },
   "outputs": [],
   "source": [
    "def brier(guess,outcome):\n",
    "    t = (guess-1)**2 + (1-guess)**2\n",
    "    f = ((1-guess)-1)**2 + (guess)**2\n",
    "    if outcome == True:\n",
    "        r = t\n",
    "    else:\n",
    "        r = f\n",
    "    return r"
   ]
  },
  {
   "cell_type": "code",
   "execution_count": 3,
   "metadata": {
    "collapsed": true
   },
   "outputs": [],
   "source": [
    "def buildData(start,std,sims,days):\n",
    "    df = pd.DataFrame()\n",
    "    for s in range(sims):\n",
    "        time_series = []\n",
    "        time_series.append(start)\n",
    "        for d in range(days):\n",
    "            point = time_series[d] + np.random.normal(0,std)\n",
    "            time_series.append(point)\n",
    "        df[s] = time_series\n",
    "    return df"
   ]
  },
  {
   "cell_type": "code",
   "execution_count": 4,
   "metadata": {
    "collapsed": true
   },
   "outputs": [],
   "source": [
    "def interpret(df):\n",
    "    ends = df.iloc[-1]\n",
    "    h = len(df.columns)\n",
    "    l = len(df)\n",
    "    med = np.median(ends)\n",
    "    avg = np.mean(ends)\n",
    "    std = np.std(ends)\n",
    "    print('In {} simulations for {} days, average = {}, median = {}, standard deviation = {}'.format(h,l,avg,med,std))"
   ]
  },
  {
   "cell_type": "code",
   "execution_count": 5,
   "metadata": {
    "collapsed": true
   },
   "outputs": [],
   "source": [
    "def plot(df):\n",
    "    fig = plt.figure()\n",
    "    plt.plot(df)\n",
    "    plt.show()"
   ]
  },
  {
   "cell_type": "code",
   "execution_count": 6,
   "metadata": {
    "collapsed": true
   },
   "outputs": [],
   "source": [
    "def monteCarlo(start,std=1,sims=1000,days=350):\n",
    "    df = buildData(start,std,sims,days)\n",
    "    interpret(df)\n",
    "    plot(df)"
   ]
  },
  {
   "cell_type": "code",
   "execution_count": null,
   "metadata": {
    "collapsed": true
   },
   "outputs": [],
   "source": []
  },
  {
   "cell_type": "code",
   "execution_count": null,
   "metadata": {
    "collapsed": true
   },
   "outputs": [],
   "source": []
  },
  {
   "cell_type": "code",
   "execution_count": null,
   "metadata": {
    "collapsed": true
   },
   "outputs": [],
   "source": []
  }
 ],
 "metadata": {
  "kernelspec": {
   "display_name": "Python 3",
   "language": "python",
   "name": "python3"
  },
  "language_info": {
   "codemirror_mode": {
    "name": "ipython",
    "version": 3
   },
   "file_extension": ".py",
   "mimetype": "text/x-python",
   "name": "python",
   "nbconvert_exporter": "python",
   "pygments_lexer": "ipython3",
   "version": "3.6.1"
  }
 },
 "nbformat": 4,
 "nbformat_minor": 2
}
